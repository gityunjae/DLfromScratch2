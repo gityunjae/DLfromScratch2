{
  "nbformat": 4,
  "nbformat_minor": 0,
  "metadata": {
    "colab": {
      "name": "01_FCLayerMiniBatchEx.ipynb",
      "provenance": [],
      "collapsed_sections": [],
      "authorship_tag": "ABX9TyPDbNLXCBW2eAVT4s2cEOdl"
    },
    "kernelspec": {
      "name": "python3",
      "display_name": "Python 3"
    }
  },
  "cells": [
    {
      "cell_type": "code",
      "metadata": {
        "id": "ATAH40Zf22Cb"
      },
      "source": [
        "import numpy as np\n",
        "W1 = np.random.randn(2,4)\n",
        "b1 = np.random.randn(4)\n",
        "x = np.random.randn(10,2)\n",
        "h = np.matmul(x,W1) + b1"
      ],
      "execution_count": 1,
      "outputs": []
    },
    {
      "cell_type": "code",
      "metadata": {
        "id": "8ae4vIHS3L3f"
      },
      "source": [
        ""
      ],
      "execution_count": null,
      "outputs": []
    }
  ]
}