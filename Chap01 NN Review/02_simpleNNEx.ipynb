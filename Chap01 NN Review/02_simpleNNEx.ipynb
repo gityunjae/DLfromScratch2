{
  "nbformat": 4,
  "nbformat_minor": 0,
  "metadata": {
    "colab": {
      "name": "02_simpleNNEx.ipynb",
      "provenance": [],
      "collapsed_sections": [],
      "authorship_tag": "ABX9TyNV6sfF1prI89eYTVdx4nTO"
    },
    "kernelspec": {
      "name": "python3",
      "display_name": "Python 3"
    }
  },
  "cells": [
    {
      "cell_type": "code",
      "metadata": {
        "id": "sICiq07qDGn0"
      },
      "source": [
        "import numpy as np\n",
        "def sigmoid(x):\n",
        "  return 1/(1+np.exp(-x))"
      ],
      "execution_count": 1,
      "outputs": []
    },
    {
      "cell_type": "code",
      "metadata": {
        "id": "LXK2ZXezDpAe"
      },
      "source": [
        "x = np.random.randn(10,2)\n",
        "W1 = np.random.randn(2,4)\n",
        "b1 = np.random.randn(4)\n",
        "W2 = np.random.randn(4,3)\n",
        "b2 = np.random.randn(3)\n",
        "\n",
        "h = np.matmul(x, W1) + b1\n",
        "a = sigmoid(h)\n",
        "s = np.matmul(a, W2) + b2"
      ],
      "execution_count": 2,
      "outputs": []
    }
  ]
}