{
  "nbformat": 4,
  "nbformat_minor": 0,
  "metadata": {
    "colab": {
      "name": "forward_net.ipynb",
      "provenance": [],
      "collapsed_sections": [],
      "authorship_tag": "ABX9TyOrTog4k3mA7PtRojdQUpOq"
    },
    "kernelspec": {
      "name": "python3",
      "display_name": "Python 3"
    }
  },
  "cells": [
    {
      "cell_type": "code",
      "metadata": {
        "id": "cP_MCMgtn-lD"
      },
      "source": [
        "import numpy as np"
      ],
      "execution_count": 1,
      "outputs": []
    },
    {
      "cell_type": "code",
      "metadata": {
        "id": "iyQkNgc0oHcZ"
      },
      "source": [
        "class Sigmoid:\n",
        "  def __init__(self):\n",
        "    self.params=[]\n",
        "  def forward(self, x):\n",
        "    return 1 / (1 + np.exp(-x))"
      ],
      "execution_count": 2,
      "outputs": []
    },
    {
      "cell_type": "code",
      "metadata": {
        "id": "kh_xA-KMoPQe"
      },
      "source": [
        "class Affine:\n",
        "  def __init__(self, W, b): # 함수 초기화 시에 가중치와 편향을 받는다\n",
        "    self.params = [W,b]\n",
        "  def forward(self, x):\n",
        "    W, b = self.params\n",
        "    out = np.matmul(x, W) + b\n",
        "    return out"
      ],
      "execution_count": 3,
      "outputs": []
    },
    {
      "cell_type": "code",
      "metadata": {
        "id": "MyMxPkWjoduI"
      },
      "source": [
        "class TwoLayerNet:\n",
        "  def __init__(self, input_size, hidden_size, output_size):\n",
        "    I, H, O = input_size, hidden_size, output_size\n",
        "\n",
        "    W1 = np.random.randn(I, H)\n",
        "    b1 = np.random.randn(H)\n",
        "    W2 = np.random.randn(H, O)\n",
        "    b2 = np.random.randn(O)\n",
        "\n",
        "    self.layers = [\n",
        "        Affine(W1, b1),\n",
        "        Sigmoid(),\n",
        "        Affine(W2, b2)\n",
        "    ]\n",
        "\n",
        "    self.params = []\n",
        "    for layer in self.layers:\n",
        "      self.params += layer.params\n",
        "\n",
        "  def predict(self, x):\n",
        "    for layer in self.layers:\n",
        "      x = layer.forward(x)\n",
        "    return x"
      ],
      "execution_count": 4,
      "outputs": []
    },
    {
      "cell_type": "code",
      "metadata": {
        "id": "7uudcG8gqGvK"
      },
      "source": [
        "x = np.random.randn(10,2)\n",
        "model = TwoLayerNet(2,4,3)\n",
        "s = model.predict(x)"
      ],
      "execution_count": 5,
      "outputs": []
    },
    {
      "cell_type": "code",
      "metadata": {
        "colab": {
          "base_uri": "https://localhost:8080/"
        },
        "id": "fBtZIvhTqRjN",
        "outputId": "b4f3e641-d63d-4306-bfbd-5c8a47b86c79"
      },
      "source": [
        "s # score"
      ],
      "execution_count": 6,
      "outputs": [
        {
          "output_type": "execute_result",
          "data": {
            "text/plain": [
              "array([[ 1.49917596, -3.2190956 ,  0.87096522],\n",
              "       [ 1.40249997, -3.24762783,  0.64911541],\n",
              "       [ 1.05445913, -2.69655857,  0.17953623],\n",
              "       [ 1.85623875, -3.42574797,  1.37139163],\n",
              "       [ 1.29281251, -2.70938798,  1.02226377],\n",
              "       [ 0.59250046, -1.76753317, -0.31289683],\n",
              "       [ 1.46114615, -2.95938133,  1.20914061],\n",
              "       [ 2.05887608, -3.59383812,  1.59663555],\n",
              "       [ 1.09808526, -2.79079487,  0.26709984],\n",
              "       [ 1.5935762 , -3.13639388,  1.26137489]])"
            ]
          },
          "metadata": {
            "tags": []
          },
          "execution_count": 6
        }
      ]
    }
  ]
}